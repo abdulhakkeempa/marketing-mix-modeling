{
  "nbformat": 4,
  "nbformat_minor": 0,
  "metadata": {
    "colab": {
      "provenance": [],
      "authorship_tag": "ABX9TyPpMt376jXpKXlo3FIjRwDB"
    },
    "kernelspec": {
      "name": "python3",
      "display_name": "Python 3"
    },
    "language_info": {
      "name": "python"
    }
  },
  "cells": [
    {
      "cell_type": "markdown",
      "source": [
        "# My Approach to MMM\n",
        "\n",
        "- Tuned adstock rates per channel using small grid; applied tuned rates.\n",
        "- Kept two-stage mediation structure: socials -> predict Google -> revenue.\n",
        "- Compared Ridge baseline vs XGBoost and LightGBM using expanding-window holdouts.\n",
        "- Used SHAP on the XGBoost model for feature attribution (handles nonlinearities and interactions)."
      ],
      "metadata": {
        "id": "eHkhXvoq6gXk"
      }
    },
    {
      "cell_type": "code",
      "source": [
        "import warnings\n",
        "warnings.filterwarnings('ignore')\n",
        "\n",
        "import pandas as pd\n",
        "import numpy as np\n",
        "import matplotlib.pyplot as plt\n",
        "from sklearn.linear_model import Ridge\n",
        "from sklearn.model_selection import TimeSeriesSplit, GridSearchCV\n",
        "from sklearn.preprocessing import StandardScaler\n",
        "from sklearn.pipeline import Pipeline\n",
        "from sklearn.metrics import mean_squared_error, r2_score\n",
        "from sklearn.base import clone"
      ],
      "metadata": {
        "id": "z6FYlW84tDzx"
      },
      "execution_count": 5,
      "outputs": []
    },
    {
      "cell_type": "code",
      "source": [
        "import shap"
      ],
      "metadata": {
        "id": "7ATNbr3ptJL6"
      },
      "execution_count": 6,
      "outputs": []
    },
    {
      "cell_type": "code",
      "source": [
        "from xgboost import XGBRegressor\n",
        "import lightgbm as lgb"
      ],
      "metadata": {
        "id": "JogxwUIktGgv"
      },
      "execution_count": 7,
      "outputs": []
    },
    {
      "cell_type": "code",
      "source": [
        "SEED = 42\n",
        "np.random.seed(SEED)"
      ],
      "metadata": {
        "id": "PDxgYtwYtNDR"
      },
      "execution_count": 9,
      "outputs": []
    },
    {
      "cell_type": "code",
      "source": [
        "df = pd.read_csv('/content/Assessment 2 - MMM Weekly.csv', parse_dates=['week'])\n",
        "df = df.sort_values('week').reset_index(drop=True)\n",
        "print('rows,cols:', df.shape)"
      ],
      "metadata": {
        "colab": {
          "base_uri": "https://localhost:8080/"
        },
        "id": "4tg5eMzktRsR",
        "outputId": "0a997554-ce20-4d17-90de-b07cce2b3475"
      },
      "execution_count": 11,
      "outputs": [
        {
          "output_type": "stream",
          "name": "stdout",
          "text": [
            "rows,cols: (104, 12)\n"
          ]
        }
      ]
    },
    {
      "cell_type": "code",
      "source": [
        "df.head()"
      ],
      "metadata": {
        "colab": {
          "base_uri": "https://localhost:8080/",
          "height": 206
        },
        "id": "WPUy06zy3Dk-",
        "outputId": "38dfdd48-1c85-4d84-dd3e-6b537abc7364"
      },
      "execution_count": 12,
      "outputs": [
        {
          "output_type": "execute_result",
          "data": {
            "text/plain": [
              "        week  facebook_spend  google_spend  tiktok_spend  instagram_spend  \\\n",
              "0 2023-09-17         6030.80       3130.14       2993.22          1841.08   \n",
              "1 2023-09-24         5241.44       2704.00          0.00             0.00   \n",
              "2 2023-10-01         5893.00          0.00          0.00             0.00   \n",
              "3 2023-10-08         7167.16          0.00          0.00             0.00   \n",
              "4 2023-10-15         5360.29          0.00          0.00          3237.15   \n",
              "\n",
              "   snapchat_spend  social_followers  average_price  promotions  emails_send  \\\n",
              "0         2204.72                 0         101.95           0       102684   \n",
              "1            0.00                 0         103.86           0        96573   \n",
              "2            0.00                 0         100.38           0        96797   \n",
              "3            0.00                 0         103.14           1        99098   \n",
              "4            0.00                 0         107.76           1       120754   \n",
              "\n",
              "   sms_send   revenue  \n",
              "0     20098  83124.16  \n",
              "1     29920    373.02  \n",
              "2     22304    513.01  \n",
              "3     14171    452.78  \n",
              "4     30207  41441.95  "
            ],
            "text/html": [
              "\n",
              "  <div id=\"df-8ecdc2f9-9f81-4885-8c99-cd748c71d3cf\" class=\"colab-df-container\">\n",
              "    <div>\n",
              "<style scoped>\n",
              "    .dataframe tbody tr th:only-of-type {\n",
              "        vertical-align: middle;\n",
              "    }\n",
              "\n",
              "    .dataframe tbody tr th {\n",
              "        vertical-align: top;\n",
              "    }\n",
              "\n",
              "    .dataframe thead th {\n",
              "        text-align: right;\n",
              "    }\n",
              "</style>\n",
              "<table border=\"1\" class=\"dataframe\">\n",
              "  <thead>\n",
              "    <tr style=\"text-align: right;\">\n",
              "      <th></th>\n",
              "      <th>week</th>\n",
              "      <th>facebook_spend</th>\n",
              "      <th>google_spend</th>\n",
              "      <th>tiktok_spend</th>\n",
              "      <th>instagram_spend</th>\n",
              "      <th>snapchat_spend</th>\n",
              "      <th>social_followers</th>\n",
              "      <th>average_price</th>\n",
              "      <th>promotions</th>\n",
              "      <th>emails_send</th>\n",
              "      <th>sms_send</th>\n",
              "      <th>revenue</th>\n",
              "    </tr>\n",
              "  </thead>\n",
              "  <tbody>\n",
              "    <tr>\n",
              "      <th>0</th>\n",
              "      <td>2023-09-17</td>\n",
              "      <td>6030.80</td>\n",
              "      <td>3130.14</td>\n",
              "      <td>2993.22</td>\n",
              "      <td>1841.08</td>\n",
              "      <td>2204.72</td>\n",
              "      <td>0</td>\n",
              "      <td>101.95</td>\n",
              "      <td>0</td>\n",
              "      <td>102684</td>\n",
              "      <td>20098</td>\n",
              "      <td>83124.16</td>\n",
              "    </tr>\n",
              "    <tr>\n",
              "      <th>1</th>\n",
              "      <td>2023-09-24</td>\n",
              "      <td>5241.44</td>\n",
              "      <td>2704.00</td>\n",
              "      <td>0.00</td>\n",
              "      <td>0.00</td>\n",
              "      <td>0.00</td>\n",
              "      <td>0</td>\n",
              "      <td>103.86</td>\n",
              "      <td>0</td>\n",
              "      <td>96573</td>\n",
              "      <td>29920</td>\n",
              "      <td>373.02</td>\n",
              "    </tr>\n",
              "    <tr>\n",
              "      <th>2</th>\n",
              "      <td>2023-10-01</td>\n",
              "      <td>5893.00</td>\n",
              "      <td>0.00</td>\n",
              "      <td>0.00</td>\n",
              "      <td>0.00</td>\n",
              "      <td>0.00</td>\n",
              "      <td>0</td>\n",
              "      <td>100.38</td>\n",
              "      <td>0</td>\n",
              "      <td>96797</td>\n",
              "      <td>22304</td>\n",
              "      <td>513.01</td>\n",
              "    </tr>\n",
              "    <tr>\n",
              "      <th>3</th>\n",
              "      <td>2023-10-08</td>\n",
              "      <td>7167.16</td>\n",
              "      <td>0.00</td>\n",
              "      <td>0.00</td>\n",
              "      <td>0.00</td>\n",
              "      <td>0.00</td>\n",
              "      <td>0</td>\n",
              "      <td>103.14</td>\n",
              "      <td>1</td>\n",
              "      <td>99098</td>\n",
              "      <td>14171</td>\n",
              "      <td>452.78</td>\n",
              "    </tr>\n",
              "    <tr>\n",
              "      <th>4</th>\n",
              "      <td>2023-10-15</td>\n",
              "      <td>5360.29</td>\n",
              "      <td>0.00</td>\n",
              "      <td>0.00</td>\n",
              "      <td>3237.15</td>\n",
              "      <td>0.00</td>\n",
              "      <td>0</td>\n",
              "      <td>107.76</td>\n",
              "      <td>1</td>\n",
              "      <td>120754</td>\n",
              "      <td>30207</td>\n",
              "      <td>41441.95</td>\n",
              "    </tr>\n",
              "  </tbody>\n",
              "</table>\n",
              "</div>\n",
              "    <div class=\"colab-df-buttons\">\n",
              "\n",
              "  <div class=\"colab-df-container\">\n",
              "    <button class=\"colab-df-convert\" onclick=\"convertToInteractive('df-8ecdc2f9-9f81-4885-8c99-cd748c71d3cf')\"\n",
              "            title=\"Convert this dataframe to an interactive table.\"\n",
              "            style=\"display:none;\">\n",
              "\n",
              "  <svg xmlns=\"http://www.w3.org/2000/svg\" height=\"24px\" viewBox=\"0 -960 960 960\">\n",
              "    <path d=\"M120-120v-720h720v720H120Zm60-500h600v-160H180v160Zm220 220h160v-160H400v160Zm0 220h160v-160H400v160ZM180-400h160v-160H180v160Zm440 0h160v-160H620v160ZM180-180h160v-160H180v160Zm440 0h160v-160H620v160Z\"/>\n",
              "  </svg>\n",
              "    </button>\n",
              "\n",
              "  <style>\n",
              "    .colab-df-container {\n",
              "      display:flex;\n",
              "      gap: 12px;\n",
              "    }\n",
              "\n",
              "    .colab-df-convert {\n",
              "      background-color: #E8F0FE;\n",
              "      border: none;\n",
              "      border-radius: 50%;\n",
              "      cursor: pointer;\n",
              "      display: none;\n",
              "      fill: #1967D2;\n",
              "      height: 32px;\n",
              "      padding: 0 0 0 0;\n",
              "      width: 32px;\n",
              "    }\n",
              "\n",
              "    .colab-df-convert:hover {\n",
              "      background-color: #E2EBFA;\n",
              "      box-shadow: 0px 1px 2px rgba(60, 64, 67, 0.3), 0px 1px 3px 1px rgba(60, 64, 67, 0.15);\n",
              "      fill: #174EA6;\n",
              "    }\n",
              "\n",
              "    .colab-df-buttons div {\n",
              "      margin-bottom: 4px;\n",
              "    }\n",
              "\n",
              "    [theme=dark] .colab-df-convert {\n",
              "      background-color: #3B4455;\n",
              "      fill: #D2E3FC;\n",
              "    }\n",
              "\n",
              "    [theme=dark] .colab-df-convert:hover {\n",
              "      background-color: #434B5C;\n",
              "      box-shadow: 0px 1px 3px 1px rgba(0, 0, 0, 0.15);\n",
              "      filter: drop-shadow(0px 1px 2px rgba(0, 0, 0, 0.3));\n",
              "      fill: #FFFFFF;\n",
              "    }\n",
              "  </style>\n",
              "\n",
              "    <script>\n",
              "      const buttonEl =\n",
              "        document.querySelector('#df-8ecdc2f9-9f81-4885-8c99-cd748c71d3cf button.colab-df-convert');\n",
              "      buttonEl.style.display =\n",
              "        google.colab.kernel.accessAllowed ? 'block' : 'none';\n",
              "\n",
              "      async function convertToInteractive(key) {\n",
              "        const element = document.querySelector('#df-8ecdc2f9-9f81-4885-8c99-cd748c71d3cf');\n",
              "        const dataTable =\n",
              "          await google.colab.kernel.invokeFunction('convertToInteractive',\n",
              "                                                    [key], {});\n",
              "        if (!dataTable) return;\n",
              "\n",
              "        const docLinkHtml = 'Like what you see? Visit the ' +\n",
              "          '<a target=\"_blank\" href=https://colab.research.google.com/notebooks/data_table.ipynb>data table notebook</a>'\n",
              "          + ' to learn more about interactive tables.';\n",
              "        element.innerHTML = '';\n",
              "        dataTable['output_type'] = 'display_data';\n",
              "        await google.colab.output.renderOutput(dataTable, element);\n",
              "        const docLink = document.createElement('div');\n",
              "        docLink.innerHTML = docLinkHtml;\n",
              "        element.appendChild(docLink);\n",
              "      }\n",
              "    </script>\n",
              "  </div>\n",
              "\n",
              "\n",
              "    <div id=\"df-a89f7ce2-9fd8-42b8-9dc1-5aff7d0d0acf\">\n",
              "      <button class=\"colab-df-quickchart\" onclick=\"quickchart('df-a89f7ce2-9fd8-42b8-9dc1-5aff7d0d0acf')\"\n",
              "                title=\"Suggest charts\"\n",
              "                style=\"display:none;\">\n",
              "\n",
              "<svg xmlns=\"http://www.w3.org/2000/svg\" height=\"24px\"viewBox=\"0 0 24 24\"\n",
              "     width=\"24px\">\n",
              "    <g>\n",
              "        <path d=\"M19 3H5c-1.1 0-2 .9-2 2v14c0 1.1.9 2 2 2h14c1.1 0 2-.9 2-2V5c0-1.1-.9-2-2-2zM9 17H7v-7h2v7zm4 0h-2V7h2v10zm4 0h-2v-4h2v4z\"/>\n",
              "    </g>\n",
              "</svg>\n",
              "      </button>\n",
              "\n",
              "<style>\n",
              "  .colab-df-quickchart {\n",
              "      --bg-color: #E8F0FE;\n",
              "      --fill-color: #1967D2;\n",
              "      --hover-bg-color: #E2EBFA;\n",
              "      --hover-fill-color: #174EA6;\n",
              "      --disabled-fill-color: #AAA;\n",
              "      --disabled-bg-color: #DDD;\n",
              "  }\n",
              "\n",
              "  [theme=dark] .colab-df-quickchart {\n",
              "      --bg-color: #3B4455;\n",
              "      --fill-color: #D2E3FC;\n",
              "      --hover-bg-color: #434B5C;\n",
              "      --hover-fill-color: #FFFFFF;\n",
              "      --disabled-bg-color: #3B4455;\n",
              "      --disabled-fill-color: #666;\n",
              "  }\n",
              "\n",
              "  .colab-df-quickchart {\n",
              "    background-color: var(--bg-color);\n",
              "    border: none;\n",
              "    border-radius: 50%;\n",
              "    cursor: pointer;\n",
              "    display: none;\n",
              "    fill: var(--fill-color);\n",
              "    height: 32px;\n",
              "    padding: 0;\n",
              "    width: 32px;\n",
              "  }\n",
              "\n",
              "  .colab-df-quickchart:hover {\n",
              "    background-color: var(--hover-bg-color);\n",
              "    box-shadow: 0 1px 2px rgba(60, 64, 67, 0.3), 0 1px 3px 1px rgba(60, 64, 67, 0.15);\n",
              "    fill: var(--button-hover-fill-color);\n",
              "  }\n",
              "\n",
              "  .colab-df-quickchart-complete:disabled,\n",
              "  .colab-df-quickchart-complete:disabled:hover {\n",
              "    background-color: var(--disabled-bg-color);\n",
              "    fill: var(--disabled-fill-color);\n",
              "    box-shadow: none;\n",
              "  }\n",
              "\n",
              "  .colab-df-spinner {\n",
              "    border: 2px solid var(--fill-color);\n",
              "    border-color: transparent;\n",
              "    border-bottom-color: var(--fill-color);\n",
              "    animation:\n",
              "      spin 1s steps(1) infinite;\n",
              "  }\n",
              "\n",
              "  @keyframes spin {\n",
              "    0% {\n",
              "      border-color: transparent;\n",
              "      border-bottom-color: var(--fill-color);\n",
              "      border-left-color: var(--fill-color);\n",
              "    }\n",
              "    20% {\n",
              "      border-color: transparent;\n",
              "      border-left-color: var(--fill-color);\n",
              "      border-top-color: var(--fill-color);\n",
              "    }\n",
              "    30% {\n",
              "      border-color: transparent;\n",
              "      border-left-color: var(--fill-color);\n",
              "      border-top-color: var(--fill-color);\n",
              "      border-right-color: var(--fill-color);\n",
              "    }\n",
              "    40% {\n",
              "      border-color: transparent;\n",
              "      border-right-color: var(--fill-color);\n",
              "      border-top-color: var(--fill-color);\n",
              "    }\n",
              "    60% {\n",
              "      border-color: transparent;\n",
              "      border-right-color: var(--fill-color);\n",
              "    }\n",
              "    80% {\n",
              "      border-color: transparent;\n",
              "      border-right-color: var(--fill-color);\n",
              "      border-bottom-color: var(--fill-color);\n",
              "    }\n",
              "    90% {\n",
              "      border-color: transparent;\n",
              "      border-bottom-color: var(--fill-color);\n",
              "    }\n",
              "  }\n",
              "</style>\n",
              "\n",
              "      <script>\n",
              "        async function quickchart(key) {\n",
              "          const quickchartButtonEl =\n",
              "            document.querySelector('#' + key + ' button');\n",
              "          quickchartButtonEl.disabled = true;  // To prevent multiple clicks.\n",
              "          quickchartButtonEl.classList.add('colab-df-spinner');\n",
              "          try {\n",
              "            const charts = await google.colab.kernel.invokeFunction(\n",
              "                'suggestCharts', [key], {});\n",
              "          } catch (error) {\n",
              "            console.error('Error during call to suggestCharts:', error);\n",
              "          }\n",
              "          quickchartButtonEl.classList.remove('colab-df-spinner');\n",
              "          quickchartButtonEl.classList.add('colab-df-quickchart-complete');\n",
              "        }\n",
              "        (() => {\n",
              "          let quickchartButtonEl =\n",
              "            document.querySelector('#df-a89f7ce2-9fd8-42b8-9dc1-5aff7d0d0acf button');\n",
              "          quickchartButtonEl.style.display =\n",
              "            google.colab.kernel.accessAllowed ? 'block' : 'none';\n",
              "        })();\n",
              "      </script>\n",
              "    </div>\n",
              "\n",
              "    </div>\n",
              "  </div>\n"
            ],
            "application/vnd.google.colaboratory.intrinsic+json": {
              "type": "dataframe",
              "variable_name": "df",
              "summary": "{\n  \"name\": \"df\",\n  \"rows\": 104,\n  \"fields\": [\n    {\n      \"column\": \"week\",\n      \"properties\": {\n        \"dtype\": \"date\",\n        \"min\": \"2023-09-17 00:00:00\",\n        \"max\": \"2025-09-07 00:00:00\",\n        \"num_unique_values\": 104,\n        \"samples\": [\n          \"2024-04-14 00:00:00\",\n          \"2024-12-15 00:00:00\",\n          \"2024-12-08 00:00:00\"\n        ],\n        \"semantic_type\": \"\",\n        \"description\": \"\"\n      }\n    },\n    {\n      \"column\": \"facebook_spend\",\n      \"properties\": {\n        \"dtype\": \"number\",\n        \"std\": 1168.961177000946,\n        \"min\": 2456.94,\n        \"max\": 9325.18,\n        \"num_unique_values\": 104,\n        \"samples\": [\n          3694.1,\n          4542.06,\n          5236.06\n        ],\n        \"semantic_type\": \"\",\n        \"description\": \"\"\n      }\n    },\n    {\n      \"column\": \"google_spend\",\n      \"properties\": {\n        \"dtype\": \"number\",\n        \"std\": 1863.3502788126812,\n        \"min\": 0.0,\n        \"max\": 6083.16,\n        \"num_unique_values\": 46,\n        \"samples\": [\n          3875.86,\n          3693.21,\n          4319.58\n        ],\n        \"semantic_type\": \"\",\n        \"description\": \"\"\n      }\n    },\n    {\n      \"column\": \"tiktok_spend\",\n      \"properties\": {\n        \"dtype\": \"number\",\n        \"std\": 1376.9931316663233,\n        \"min\": 0.0,\n        \"max\": 4143.25,\n        \"num_unique_values\": 37,\n        \"samples\": [\n          3145.03,\n          3631.55,\n          2343.46\n        ],\n        \"semantic_type\": \"\",\n        \"description\": \"\"\n      }\n    },\n    {\n      \"column\": \"instagram_spend\",\n      \"properties\": {\n        \"dtype\": \"number\",\n        \"std\": 1349.1842496746845,\n        \"min\": 0.0,\n        \"max\": 3877.99,\n        \"num_unique_values\": 42,\n        \"samples\": [\n          1994.75,\n          1926.91,\n          3087.06\n        ],\n        \"semantic_type\": \"\",\n        \"description\": \"\"\n      }\n    },\n    {\n      \"column\": \"snapchat_spend\",\n      \"properties\": {\n        \"dtype\": \"number\",\n        \"std\": 982.0882729955291,\n        \"min\": 0.0,\n        \"max\": 3126.04,\n        \"num_unique_values\": 42,\n        \"samples\": [\n          2064.98,\n          2115.18,\n          1814.93\n        ],\n        \"semantic_type\": \"\",\n        \"description\": \"\"\n      }\n    },\n    {\n      \"column\": \"social_followers\",\n      \"properties\": {\n        \"dtype\": \"number\",\n        \"std\": 47778,\n        \"min\": 0,\n        \"max\": 143477,\n        \"num_unique_values\": 79,\n        \"samples\": [\n          84844,\n          0,\n          76091\n        ],\n        \"semantic_type\": \"\",\n        \"description\": \"\"\n      }\n    },\n    {\n      \"column\": \"average_price\",\n      \"properties\": {\n        \"dtype\": \"number\",\n        \"std\": 6.496186297187526,\n        \"min\": 87.56,\n        \"max\": 113.38,\n        \"num_unique_values\": 99,\n        \"samples\": [\n          104.23,\n          93.48,\n          93.05\n        ],\n        \"semantic_type\": \"\",\n        \"description\": \"\"\n      }\n    },\n    {\n      \"column\": \"promotions\",\n      \"properties\": {\n        \"dtype\": \"number\",\n        \"std\": 0,\n        \"min\": 0,\n        \"max\": 1,\n        \"num_unique_values\": 2,\n        \"samples\": [\n          1,\n          0\n        ],\n        \"semantic_type\": \"\",\n        \"description\": \"\"\n      }\n    },\n    {\n      \"column\": \"emails_send\",\n      \"properties\": {\n        \"dtype\": \"number\",\n        \"std\": 25158,\n        \"min\": 68655,\n        \"max\": 185460,\n        \"num_unique_values\": 104,\n        \"samples\": [\n          139067,\n          127455\n        ],\n        \"semantic_type\": \"\",\n        \"description\": \"\"\n      }\n    },\n    {\n      \"column\": \"sms_send\",\n      \"properties\": {\n        \"dtype\": \"number\",\n        \"std\": 6661,\n        \"min\": 10460,\n        \"max\": 40153,\n        \"num_unique_values\": 104,\n        \"samples\": [\n          27741,\n          28106\n        ],\n        \"semantic_type\": \"\",\n        \"description\": \"\"\n      }\n    },\n    {\n      \"column\": \"revenue\",\n      \"properties\": {\n        \"dtype\": \"number\",\n        \"std\": 93329.60701867189,\n        \"min\": 1.0,\n        \"max\": 398453.53,\n        \"num_unique_values\": 97,\n        \"samples\": [\n          266526.91,\n          993.68\n        ],\n        \"semantic_type\": \"\",\n        \"description\": \"\"\n      }\n    }\n  ]\n}"
            }
          },
          "metadata": {},
          "execution_count": 12
        }
      ]
    },
    {
      "cell_type": "code",
      "source": [
        "plt.figure(figsize=(12,4))\n",
        "plt.plot(df['week'], df['revenue'], marker='o', linewidth=1)\n",
        "plt.title('Revenue over time')\n",
        "plt.xticks(rotation=30)\n",
        "plt.tight_layout()"
      ],
      "metadata": {
        "colab": {
          "base_uri": "https://localhost:8080/",
          "height": 407
        },
        "id": "2Qm7-Kna2ZGi",
        "outputId": "69510996-8fa6-4643-f790-a5e6e24a0c83"
      },
      "execution_count": 13,
      "outputs": [
        {
          "output_type": "display_data",
          "data": {
            "text/plain": [
              "<Figure size 1200x400 with 1 Axes>"
            ],
            "image/png": "[encoded data removed]"
          },
          "metadata": {}
        }
      ]
    },
    {
      "cell_type": "markdown",
      "source": [
        "## Preprocessing & Feature Engineering"
      ],
      "metadata": {
        "id": "41EypYWStaA6"
      }
    },
    {
      "cell_type": "code",
      "source": [
        "EPS = 1e-6\n",
        "for col in ['revenue', 'facebook_spend', 'google_spend', 'tiktok_spend', 'instagram_spend', 'snapchat_spend']:\n",
        "    df[f'ln_{col}'] = np.log(df[col] + EPS)"
      ],
      "metadata": {
        "id": "b8KgPb3rtbdD"
      },
      "execution_count": 14,
      "outputs": []
    },
    {
      "cell_type": "code",
      "source": [
        "def adstock(series, rate=0.5):\n",
        "    result = np.zeros(len(series))\n",
        "    prev = 0.0\n",
        "    for i, x in enumerate(series):\n",
        "        prev = x + rate * prev\n",
        "        result[i] = prev\n",
        "    return result"
      ],
      "metadata": {
        "id": "lnpVWOgqtfVk"
      },
      "execution_count": 15,
      "outputs": []
    },
    {
      "cell_type": "code",
      "source": [
        "socials = ['facebook_spend','tiktok_spend','instagram_spend','snapchat_spend','google_spend']\n",
        "\n",
        "LAGS = [1,2,3] # Lag of 1-3 weeks\n",
        "\n",
        "for lag in LAGS:\n",
        "    for s in socials:\n",
        "        df[f'{s}_lag{lag}'] = df[s].shift(lag)"
      ],
      "metadata": {
        "id": "fYrRhU3GtilM"
      },
      "execution_count": 16,
      "outputs": []
    },
    {
      "cell_type": "code",
      "source": [
        "fwy = df['week'].dt.isocalendar().week.astype(int)\n",
        "df['week_of_year'] = fwy\n",
        "df['week_sin'] = np.sin(2 * np.pi * df['week_of_year'] / 52)\n",
        "df['week_cos'] = np.cos(2 * np.pi * df['week_of_year'] / 52)\n",
        "\n",
        "if df['promotions'].dtype == 'object':\n",
        "    df['promotions_bin'] = (df['promotions'].str.lower().isin(['yes','true','1'])).astype(int)\n",
        "else:\n",
        "    df['promotions_bin'] = df['promotions']"
      ],
      "metadata": {
        "id": "OoNuiBPEtlmk"
      },
      "execution_count": 17,
      "outputs": []
    },
    {
      "cell_type": "code",
      "source": [
        "mean_price = df['average_price'].mean()\n",
        "df['price_dev'] = df['average_price'] - mean_price\n",
        "\n",
        "for c in ['emails_send','sms_send']:\n",
        "    df[c] = df[c].fillna(0)\n",
        "\n",
        "df = df.dropna().reset_index(drop=True)\n",
        "print('After lag dropna shape:', df.shape)"
      ],
      "metadata": {
        "colab": {
          "base_uri": "https://localhost:8080/"
        },
        "id": "ZehMRLDOtppl",
        "outputId": "65cde8f6-6932-466d-f1b4-0e55b04117ed"
      },
      "execution_count": 18,
      "outputs": [
        {
          "output_type": "stream",
          "name": "stdout",
          "text": [
            "After lag dropna shape: (101, 38)\n"
          ]
        }
      ]
    },
    {
      "cell_type": "markdown",
      "source": [
        "## Tuning for Adstock"
      ],
      "metadata": {
        "id": "mI6nGkWvwHk6"
      }
    },
    {
      "cell_type": "code",
      "source": [
        "def rmse(y_true, y_pred):\n",
        "    return np.sqrt(mean_squared_error(y_true, y_pred))"
      ],
      "metadata": {
        "id": "9584kY05tKDR"
      },
      "execution_count": 8,
      "outputs": []
    },
    {
      "cell_type": "code",
      "source": [
        "rates_grid = np.arange(0.1, 0.9, 0.1)\n",
        "best_rates = {}\n",
        "\n",
        "TARGET = 'ln_revenue'\n",
        "\n",
        "for ch in socials:\n",
        "    best_score = np.inf\n",
        "    best_r = 0.5\n",
        "    for r in rates_grid:\n",
        "        tmp = df.copy()\n",
        "        tmp[f'{ch}_adstock'] = adstock(tmp[ch].fillna(0).values, rate=r)\n",
        "\n",
        "        tmp[f'ln_{ch}_adstock'] = np.log(tmp[f'{ch}_adstock'] + EPS)\n",
        "\n",
        "        for s in socials:\n",
        "            if s == ch:\n",
        "                continue\n",
        "\n",
        "            tmp[f'{s}_adstock'] = adstock(tmp[s].fillna(0).values, rate=0.5)\n",
        "            tmp[f'ln_{s}_adstock'] = np.log(tmp[f'{s}_adstock'] + EPS)\n",
        "\n",
        "        feats = ['ln_facebook_spend_adstock','ln_tiktok_spend_adstock','ln_instagram_spend_adstock','ln_snapchat_spend_adstock',\n",
        "                 'ln_google_spend_adstock','social_followers','price_dev','promotions_bin','emails_send','sms_send','week_sin','week_cos']\n",
        "\n",
        "        feats = [c for c in feats if c in tmp.columns]\n",
        "        X = tmp[feats]\n",
        "        y = tmp[TARGET]\n",
        "\n",
        "\n",
        "        tscv = TimeSeriesSplit(n_splits=4)\n",
        "        rmses = []\n",
        "\n",
        "        for train_idx, test_idx in tscv.split(X):\n",
        "            Xtr, Xte = X.iloc[train_idx], X.iloc[test_idx]\n",
        "            ytr, yte = y.iloc[train_idx], y.iloc[test_idx]\n",
        "            scaler = StandardScaler()\n",
        "            Xtr_s = scaler.fit_transform(Xtr)\n",
        "            Xte_s = scaler.transform(Xte)\n",
        "            model = Ridge(alpha=10.0)\n",
        "            model.fit(Xtr_s, ytr)\n",
        "            pred = model.predict(Xte_s)\n",
        "            rmses.append(rmse(yte, pred))\n",
        "\n",
        "        mean_rmse = np.mean(rmses)\n",
        "\n",
        "        if mean_rmse < best_score:\n",
        "            best_score = mean_rmse\n",
        "            best_r = r\n",
        "\n",
        "    best_rates[ch] = best_r\n",
        "    print(f'Best adstock rate for {ch}: {best_r} (CV rmse ln: {best_score:.3f})')"
      ],
      "metadata": {
        "colab": {
          "base_uri": "https://localhost:8080/"
        },
        "id": "2M-0kiJBtxgd",
        "outputId": "54df28c5-b4d1-449c-fc85-35f8dcceb33a"
      },
      "execution_count": 20,
      "outputs": [
        {
          "output_type": "stream",
          "name": "stdout",
          "text": [
            "Best adstock rate for facebook_spend: 0.8 (CV rmse ln: 3.263)\n",
            "Best adstock rate for tiktok_spend: 0.8 (CV rmse ln: 3.407)\n",
            "Best adstock rate for instagram_spend: 0.1 (CV rmse ln: 3.381)\n",
            "Best adstock rate for snapchat_spend: 0.8 (CV rmse ln: 3.394)\n",
            "Best adstock rate for google_spend: 0.8 (CV rmse ln: 3.413)\n"
          ]
        }
      ]
    },
    {
      "cell_type": "code",
      "source": [
        "for s in socials:\n",
        "    r = best_rates.get(s, 0.5)\n",
        "    df[f'{s}_adstock'] = adstock(df[s].fillna(0).values, rate=r)\n",
        "    df[f'ln_{s}_adstock'] = np.log(df[f'{s}_adstock'] + EPS)"
      ],
      "metadata": {
        "id": "lLDC2Rgcwojw"
      },
      "execution_count": 21,
      "outputs": []
    },
    {
      "cell_type": "markdown",
      "source": [
        "## Two Stage Mediation"
      ],
      "metadata": {
        "id": "QDCSG3fUwyBA"
      }
    },
    {
      "cell_type": "code",
      "source": [
        "SOCIAL_FEATS = ['ln_facebook_spend','ln_tiktok_spend','ln_instagram_spend','ln_snapchat_spend']\n",
        "MEDIATOR = 'ln_google_spend'\n",
        "OTHER_FEATS = ['ln_facebook_spend_adstock','ln_tiktok_spend_adstock','ln_instagram_spend_adstock','ln_snapchat_spend_adstock',\n",
        "               'ln_google_spend_adstock', 'social_followers','price_dev','promotions_bin','emails_send','sms_send','week_sin','week_cos']\n",
        "\n",
        "X_stage1 = df[SOCIAL_FEATS]\n",
        "y_stage1 = df[MEDIATOR]\n",
        "\n",
        "grid1 = GridSearchCV(Ridge(), {'alpha':[0.1,1.0,10.0]}, cv=TimeSeriesSplit(n_splits=4), scoring='neg_mean_squared_error')\n",
        "grid1.fit(X_stage1, y_stage1)\n",
        "\n",
        "stage1_model = grid1.best_estimator_\n",
        "\n",
        "print('Stage1 best alpha:', grid1.best_params_)\n",
        "df['pred_ln_google'] = stage1_model.predict(X_stage1)"
      ],
      "metadata": {
        "colab": {
          "base_uri": "https://localhost:8080/"
        },
        "id": "-2VkQP0Bt3kf",
        "outputId": "4175305c-c046-4fab-8b49-4639167c8953"
      },
      "execution_count": 22,
      "outputs": [
        {
          "output_type": "stream",
          "name": "stdout",
          "text": [
            "Stage1 best alpha: {'alpha': 10.0}\n"
          ]
        }
      ]
    },
    {
      "cell_type": "markdown",
      "source": [
        "## XGB Model"
      ],
      "metadata": {
        "id": "u85r-B7C1zCZ"
      }
    },
    {
      "cell_type": "code",
      "source": [
        "STRICT_FEATURES_STAGE2 = ['pred_ln_google', 'ln_google_spend_adstock', 'social_followers','price_dev','promotions_bin','emails_send','sms_send','week_sin','week_cos']\n",
        "\n",
        "X_stage2 = df[STRICT_FEATURES_STAGE2]\n",
        "y_stage2 = df[TARGET]\n",
        "\n",
        "scaler = StandardScaler()\n",
        "X_stage2_scaled = scaler.fit_transform(X_stage2)\n",
        "\n",
        "param_grid = {'alpha':[0.01,0.1,1.0,10.0,100.0]}\n",
        "cv = TimeSeriesSplit(n_splits=4)\n",
        "rg = GridSearchCV(Ridge(), param_grid, cv=cv, scoring='neg_mean_squared_error')\n",
        "rg.fit(X_stage2_scaled, y_stage2)\n",
        "print('Ridge best alpha:', rg.best_params_)\n",
        "best_ridge = rg.best_estimator_\n",
        "\n",
        "xgb = XGBRegressor(random_state=SEED, objective='reg:squarederror', verbosity=0)\n",
        "xgb_params = {'n_estimators':[50,200], 'max_depth':[3,6], 'learning_rate':[0.05,0.2]}\n",
        "\n",
        "xgb_grid = GridSearchCV(xgb, xgb_params, cv=cv, scoring='neg_mean_squared_error')\n",
        "xgb_grid.fit(X_stage2, y_stage2)\n",
        "print('XGB best params:', xgb_grid.best_params_)\n",
        "best_xgb = xgb_grid.best_estimator_"
      ],
      "metadata": {
        "colab": {
          "base_uri": "https://localhost:8080/"
        },
        "id": "WLjjuGMhutiV",
        "outputId": "17d631b9-4262-47f3-9a36-fe3e2271956c"
      },
      "execution_count": 23,
      "outputs": [
        {
          "output_type": "stream",
          "name": "stdout",
          "text": [
            "Ridge best alpha: {'alpha': 1.0}\n",
            "XGB best params: {'learning_rate': 0.05, 'max_depth': 3, 'n_estimators': 50}\n"
          ]
        }
      ]
    },
    {
      "cell_type": "code",
      "source": [
        "lgbm = lgb.LGBMRegressor(random_state=SEED, verbosity=-1)\n",
        "lgb_params = {'n_estimators':[50,200], 'num_leaves':[31,127], 'learning_rate':[0.05,0.2]}\n",
        "lgb_grid = GridSearchCV(lgbm, lgb_params, cv=cv, scoring='neg_mean_squared_error')\n",
        "lgb_grid.fit(X_stage2, y_stage2)\n",
        "print('LGB best params:', lgb_grid.best_params_)\n",
        "best_lgb = lgb_grid.best_estimator_"
      ],
      "metadata": {
        "colab": {
          "base_uri": "https://localhost:8080/"
        },
        "id": "fBTcMf1K0dhX",
        "outputId": "98dacb37-fbe1-472b-c0e3-2984f9c16282"
      },
      "execution_count": 25,
      "outputs": [
        {
          "output_type": "stream",
          "name": "stdout",
          "text": [
            "LGB best params: {'learning_rate': 0.2, 'n_estimators': 50, 'num_leaves': 31}\n"
          ]
        }
      ]
    },
    {
      "cell_type": "markdown",
      "source": [
        "## Evals"
      ],
      "metadata": {
        "id": "eGoUnaEm1dKX"
      }
    },
    {
      "cell_type": "code",
      "source": [
        "metrics = []\n",
        "min_train = int(0.5 * len(df))\n",
        "\n",
        "for split_point in range(min_train, len(df) - 8, 4):\n",
        "    train_idx = list(range(split_point))\n",
        "    test_idx = list(range(split_point, min(split_point+8, len(df))))\n",
        "\n",
        "    s1 = clone(stage1_model)\n",
        "    s1.fit(X_stage1.iloc[train_idx], y_stage1.iloc[train_idx])\n",
        "    pred_g_test = s1.predict(X_stage1.iloc[test_idx])\n",
        "\n",
        "    Xtr = X_stage2.iloc[train_idx].copy()\n",
        "    Xte = X_stage2.iloc[test_idx].copy()\n",
        "    Xtr['pred_ln_google'] = s1.predict(X_stage1.iloc[train_idx])\n",
        "    Xte['pred_ln_google'] = pred_g_test\n",
        "\n",
        "    sc = StandardScaler()\n",
        "    Xtr_s = sc.fit_transform(Xtr)\n",
        "    Xte_s = sc.transform(Xte)\n",
        "    r = Ridge(alpha=best_ridge.alpha)\n",
        "    r.fit(Xtr_s, y_stage2.iloc[train_idx])\n",
        "    pr = r.predict(Xte_s)\n",
        "\n",
        "    xb = clone(best_xgb)\n",
        "    xb.fit(Xtr, y_stage2.iloc[train_idx])\n",
        "    px = xb.predict(Xte)\n",
        "\n",
        "    lb = clone(best_lgb)\n",
        "    lb.fit(Xtr, y_stage2.iloc[train_idx])\n",
        "    pl = lb.predict(Xte)\n",
        "\n",
        "    metrics.append({'split_start': split_point,\n",
        "                    'rmse_ln_ridge': rmse(y_stage2.iloc[test_idx], pr),\n",
        "                    'rmse_ln_xgb': rmse(y_stage2.iloc[test_idx], px),\n",
        "                    'rmse_ln_lgb': rmse(y_stage2.iloc[test_idx], pl)})"
      ],
      "metadata": {
        "id": "u81fdocMu_3I"
      },
      "execution_count": 26,
      "outputs": []
    },
    {
      "cell_type": "code",
      "source": [
        "met_df = pd.DataFrame(metrics)\n",
        "print(met_df.describe())"
      ],
      "metadata": {
        "colab": {
          "base_uri": "https://localhost:8080/"
        },
        "id": "eVH1QYau0n9x",
        "outputId": "2882ad74-fd18-4d25-9917-e2a3cd58d654"
      },
      "execution_count": 27,
      "outputs": [
        {
          "output_type": "stream",
          "name": "stdout",
          "text": [
            "       split_start  rmse_ln_ridge  rmse_ln_xgb  rmse_ln_lgb\n",
            "count    11.000000      11.000000    11.000000    11.000000\n",
            "mean     70.000000       3.511303     2.731802     3.630221\n",
            "std      13.266499       1.341757     0.847671     1.397130\n",
            "min      50.000000       1.870860     1.309761     1.418193\n",
            "25%      60.000000       2.293240     2.242106     2.433987\n",
            "50%      70.000000       3.540084     2.670869     3.709455\n",
            "75%      80.000000       4.404901     3.297228     4.826666\n",
            "max      90.000000       5.985408     4.066664     5.320533\n"
          ]
        }
      ]
    },
    {
      "cell_type": "code",
      "source": [
        "mean_ridge = met_df['rmse_ln_ridge'].mean()\n",
        "mean_xgb = met_df['rmse_ln_xgb'].mean()\n",
        "mean_lgb = met_df['rmse_ln_lgb'].dropna().mean() if best_lgb else np.inf\n",
        "print('Mean RMSE ln - Ridge:', mean_ridge, 'XGB:', mean_xgb, 'LGB:', mean_lgb)\n",
        "\n",
        "full_s1 = clone(stage1_model).fit(X_stage1, y_stage1)\n",
        "X_full = X_stage2.copy()\n",
        "X_full['pred_ln_google'] = full_s1.predict(X_stage1)\n",
        "\n",
        "best_xgb.fit(X_full, y_stage2)\n",
        "\n",
        "explainer = shap.Explainer(best_xgb)\n",
        "shap_values = explainer(X_full)\n",
        "\n",
        "mean_abs_shap = pd.DataFrame({'feature':X_full.columns, 'mean_abs_shap':np.abs(shap_values.values).mean(axis=0)})\n",
        "print(mean_abs_shap.sort_values('mean_abs_shap', ascending=False))\n",
        "\n",
        "pred_full = best_xgb.predict(X_full)\n",
        "resid = y_stage2 - pred_full\n",
        "print('Residuals mean:', resid.mean(), 'std:', resid.std())"
      ],
      "metadata": {
        "colab": {
          "base_uri": "https://localhost:8080/"
        },
        "id": "Ovjv_j0kvAwC",
        "outputId": "85aca298-eebb-42a9-dc35-4c45d250e437"
      },
      "execution_count": 28,
      "outputs": [
        {
          "output_type": "stream",
          "name": "stdout",
          "text": [
            "Mean RMSE ln - Ridge: 3.5113025755630662 XGB: 2.7318018136895765 LGB: 3.630220591276523\n",
            "                   feature  mean_abs_shap\n",
            "0           pred_ln_google       1.320589\n",
            "3                price_dev       1.070358\n",
            "6                 sms_send       0.175262\n",
            "8                 week_cos       0.156810\n",
            "2         social_followers       0.096918\n",
            "1  ln_google_spend_adstock       0.065986\n",
            "4           promotions_bin       0.051478\n",
            "7                 week_sin       0.008280\n",
            "5              emails_send       0.000000\n",
            "Residuals mean: 0.0002398442708596648 std: 1.3188143351279784\n"
          ]
        }
      ]
    },
    {
      "cell_type": "code",
      "source": [
        "plt.figure(figsize=(10,4))\n",
        "plt.plot(df['week'].iloc[-len(resid):], resid, marker='o')\n",
        "plt.title('Residuals over time')"
      ],
      "metadata": {
        "colab": {
          "base_uri": "https://localhost:8080/",
          "height": 408
        },
        "id": "zBlEgNj62jYC",
        "outputId": "c03753e5-d0b8-47d6-aa06-63fef0e7019a"
      },
      "execution_count": 31,
      "outputs": [
        {
          "output_type": "execute_result",
          "data": {
            "text/plain": [
              "Text(0.5, 1.0, 'Residuals over time')"
            ]
          },
          "metadata": {},
          "execution_count": 31
        },
        {
          "output_type": "display_data",
          "data": {
            "text/plain": [
              "<Figure size 1000x400 with 1 Axes>"
            ],
            "image/png": "[encoded data removed]"
          },
          "metadata": {}
        }
      ]
    },
    {
      "cell_type": "code",
      "source": [
        "resid"
      ],
      "metadata": {
        "colab": {
          "base_uri": "https://localhost:8080/",
          "height": 458
        },
        "id": "ZXwdwZai4MUv",
        "outputId": "b7186f54-87bd-4334-de25-38f892def94c"
      },
      "execution_count": 32,
      "outputs": [
        {
          "output_type": "execute_result",
          "data": {
            "text/plain": [
              "0     -0.359743\n",
              "1      1.386509\n",
              "2      2.175957\n",
              "3      0.702609\n",
              "4     -1.150389\n",
              "         ...   \n",
              "96    -2.106787\n",
              "97     1.080014\n",
              "98     1.464431\n",
              "99     1.389581\n",
              "100   -0.154813\n",
              "Name: ln_revenue, Length: 101, dtype: float64"
            ],
            "text/html": [
              "<div>\n",
              "<style scoped>\n",
              "    .dataframe tbody tr th:only-of-type {\n",
              "        vertical-align: middle;\n",
              "    }\n",
              "\n",
              "    .dataframe tbody tr th {\n",
              "        vertical-align: top;\n",
              "    }\n",
              "\n",
              "    .dataframe thead th {\n",
              "        text-align: right;\n",
              "    }\n",
              "</style>\n",
              "<table border=\"1\" class=\"dataframe\">\n",
              "  <thead>\n",
              "    <tr style=\"text-align: right;\">\n",
              "      <th></th>\n",
              "      <th>ln_revenue</th>\n",
              "    </tr>\n",
              "  </thead>\n",
              "  <tbody>\n",
              "    <tr>\n",
              "      <th>0</th>\n",
              "      <td>-0.359743</td>\n",
              "    </tr>\n",
              "    <tr>\n",
              "      <th>1</th>\n",
              "      <td>1.386509</td>\n",
              "    </tr>\n",
              "    <tr>\n",
              "      <th>2</th>\n",
              "      <td>2.175957</td>\n",
              "    </tr>\n",
              "    <tr>\n",
              "      <th>3</th>\n",
              "      <td>0.702609</td>\n",
              "    </tr>\n",
              "    <tr>\n",
              "      <th>4</th>\n",
              "      <td>-1.150389</td>\n",
              "    </tr>\n",
              "    <tr>\n",
              "      <th>...</th>\n",
              "      <td>...</td>\n",
              "    </tr>\n",
              "    <tr>\n",
              "      <th>96</th>\n",
              "      <td>-2.106787</td>\n",
              "    </tr>\n",
              "    <tr>\n",
              "      <th>97</th>\n",
              "      <td>1.080014</td>\n",
              "    </tr>\n",
              "    <tr>\n",
              "      <th>98</th>\n",
              "      <td>1.464431</td>\n",
              "    </tr>\n",
              "    <tr>\n",
              "      <th>99</th>\n",
              "      <td>1.389581</td>\n",
              "    </tr>\n",
              "    <tr>\n",
              "      <th>100</th>\n",
              "      <td>-0.154813</td>\n",
              "    </tr>\n",
              "  </tbody>\n",
              "</table>\n",
              "<p>101 rows × 1 columns</p>\n",
              "</div><br><label><b>dtype:</b> float64</label>"
            ]
          },
          "metadata": {},
          "execution_count": 32
        }
      ]
    },
    {
      "cell_type": "code",
      "source": [
        "from statsmodels.graphics.tsaplots import plot_acf\n",
        "plot_acf(resid, lags=12)"
      ],
      "metadata": {
        "colab": {
          "base_uri": "https://localhost:8080/",
          "height": 887
        },
        "id": "WIi7OsoD4LiH",
        "outputId": "6e63a482-0d18-4644-a41e-4a1a501c411c"
      },
      "execution_count": 35,
      "outputs": [
        {
          "output_type": "execute_result",
          "data": {
            "text/plain": [
              "<Figure size 640x480 with 1 Axes>"
            ],
            "image/png": "[encoded data removed]"
          },
          "metadata": {},
          "execution_count": 35
        },
        {
          "output_type": "display_data",
          "data": {
            "text/plain": [
              "<Figure size 640x480 with 1 Axes>"
            ],
            "image/png": "[encoded data removed]"
          },
          "metadata": {}
        }
      ]
    },
    {
      "cell_type": "code",
      "source": [
        "import joblib\n",
        "joblib.dump(full_s1, 'stage1_model_tuned.pkl')\n",
        "joblib.dump(best_xgb, 'stage2_xgb_model.pkl')\n",
        "joblib.dump(rg.best_estimator_, 'stage2_ridge_model.pkl')"
      ],
      "metadata": {
        "colab": {
          "base_uri": "https://localhost:8080/"
        },
        "id": "nSQRwDYhvFGZ",
        "outputId": "d8857865-370d-4ec9-9eaa-41d2638d4559"
      },
      "execution_count": 34,
      "outputs": [
        {
          "output_type": "execute_result",
          "data": {
            "text/plain": [
              "['stage2_ridge_model.pkl']"
            ]
          },
          "metadata": {},
          "execution_count": 34
        }
      ]
    }
  ]
}
